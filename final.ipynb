{
 "cells": [
  {
   "cell_type": "code",
   "execution_count": 37,
   "metadata": {},
   "outputs": [
    {
     "name": "stdout",
     "output_type": "stream",
     "text": [
      "punkt ✅ found\n",
      "stopwords ✅ found\n",
      "vader_lexicon ✅ found\n"
     ]
    },
    {
     "data": {
      "image/png": "[encoded data removed]",
      "text/plain": [
       "<Figure size 800x600 with 1 Axes>"
      ]
     },
     "metadata": {},
     "output_type": "display_data"
    },
    {
     "name": "stdout",
     "output_type": "stream",
     "text": [
      "✅ Preprocessed data saved to kosis_preprocessed.csv\n",
      "\n",
      "Decision Tree Accuracy: 0.62\n",
      "              precision    recall  f1-score   support\n",
      "\n",
      "         neg       0.29      0.46      0.35        13\n",
      "     neutral       0.45      0.44      0.45        34\n",
      "         pos       0.89      0.77      0.82        52\n",
      "\n",
      "    accuracy                           0.62        99\n",
      "   macro avg       0.54      0.56      0.54        99\n",
      "weighted avg       0.66      0.62      0.63        99\n",
      "\n",
      "\n",
      "Random Forest Accuracy: 0.75\n",
      "              precision    recall  f1-score   support\n",
      "\n",
      "         neg       0.39      0.54      0.45        13\n",
      "     neutral       0.63      0.65      0.64        34\n",
      "         pos       0.98      0.87      0.92        52\n",
      "\n",
      "    accuracy                           0.75        99\n",
      "   macro avg       0.67      0.68      0.67        99\n",
      "weighted avg       0.78      0.75      0.76        99\n",
      "\n",
      "\n",
      "Decision Tree - Top 10 Important Features:\n",
      "              feature  importance\n",
      "1001  compound_score    0.315970\n",
      "1003  negative_score    0.119247\n",
      "1000     token_count    0.112593\n",
      "1002  positive_score    0.049052\n",
      "1004   neutral_score    0.035051\n",
      "697           please    0.032108\n",
      "902            thank    0.030219\n",
      "958            video    0.027752\n",
      "854              sir    0.023568\n",
      "374             help    0.015528\n",
      "\n",
      "Random Forest - Top 10 Important Features:\n",
      "              feature  importance\n",
      "1001  compound_score    0.123113\n",
      "1002  positive_score    0.113389\n",
      "1004   neutral_score    0.094953\n",
      "1000     token_count    0.081239\n",
      "1003  negative_score    0.067298\n",
      "902            thank    0.028791\n",
      "958            video    0.020724\n",
      "697           please    0.013119\n",
      "903           thanks    0.012836\n",
      "353            great    0.011852\n",
      "\n",
      "Test sentence: This is the most worst and bad part of the video.\n",
      "Decision Tree Prediction: neutral\n",
      "Random Forest Prediction: neutral\n"
     ]
    }
   ],
   "source": [
    "import os\n",
    "import pandas as pd\n",
    "import numpy as np\n",
    "import nltk\n",
    "\n",
    "# Set NLTK data path\n",
    "nltk_data_path = r\"C:\\Users\\ayush\\OneDrive\\Desktop\\Meachine_learning\\Deployment\\Streamlit_Web_App\\final\\nltk_data\"\n",
    "if nltk_data_path not in nltk.data.path:\n",
    "    nltk.data.path.append(nltk_data_path)\n",
    "\n",
    "# Ensure required NLTK resources\n",
    "for resource in ['punkt', 'stopwords', 'vader_lexicon']:\n",
    "    try:\n",
    "        nltk.data.find(f'corpora/{resource}' if resource == 'stopwords' else f'tokenizers/{resource}' if resource == 'punkt' else f'sentiment/{resource}')\n",
    "        print(f\"{resource} ✅ found\")\n",
    "    except LookupError:\n",
    "        print(f\"{resource} ❌ not found, downloading...\")\n",
    "        nltk.download(resource, download_dir=nltk_data_path)\n",
    "\n",
    "# Now import required modules\n",
    "from nltk.sentiment.vader import SentimentIntensityAnalyzer\n",
    "from nltk.tokenize import word_tokenize\n",
    "from nltk.corpus import stopwords\n",
    "from sklearn.model_selection import train_test_split\n",
    "from sklearn.tree import DecisionTreeClassifier\n",
    "from sklearn.ensemble import RandomForestClassifier\n",
    "from sklearn.metrics import classification_report, accuracy_score\n",
    "from sklearn.feature_extraction.text import CountVectorizer\n",
    "from imblearn.over_sampling import SMOTE\n",
    "from wordcloud import WordCloud\n",
    "import matplotlib.pyplot as plt\n",
    "\n",
    "\n",
    "# === Functions ===\n",
    "\n",
    "def analyze_sentiment(text):\n",
    "    sid = SentimentIntensityAnalyzer()\n",
    "    return sid.polarity_scores(text)\n",
    "\n",
    "\n",
    "def remove_stopwords_and_get_unique(text):\n",
    "    if pd.isna(text) or not isinstance(text, str):\n",
    "        return []\n",
    "    stop_words = set(stopwords.words('english'))\n",
    "    tokens = word_tokenize(text.lower())\n",
    "    return list(set(word for word in tokens if word.isalnum() and word not in stop_words))\n",
    "\n",
    "\n",
    "# Load dataset\n",
    "df = pd.read_csv(\"train_data.csv\")\n",
    "df['text'] = df['text'].fillna(\"\").astype(str)\n",
    "df['unique_tokens'] = df['text'].apply(remove_stopwords_and_get_unique)\n",
    "df['token_count'] = df['unique_tokens'].apply(len)\n",
    "\n",
    "# Sentiment analysis\n",
    "df['sentiment_scores'] = df['text'].apply(analyze_sentiment)\n",
    "df['compound_score'] = df['sentiment_scores'].apply(lambda x: x['compound'])\n",
    "df['positive_score'] = df['sentiment_scores'].apply(lambda x: x['pos'])\n",
    "df['negative_score'] = df['sentiment_scores'].apply(lambda x: x['neg'])\n",
    "df['neutral_score'] = df['sentiment_scores'].apply(lambda x: x['neu'])\n",
    "\n",
    "# Visualization\n",
    "df['labeled_status'].value_counts().plot(kind='bar', figsize=(8, 6), color=['blue', 'orange', 'green'])\n",
    "plt.title(\"Sentiment Count\")\n",
    "plt.ylabel(\"Count\")\n",
    "plt.xticks(rotation=0)\n",
    "plt.show()\n",
    "\n",
    "# Word cloud\n",
    "all_tokens = df['unique_tokens'].explode().dropna().tolist()\n",
    "WordCloud(width=800, height=600).generate(\" \".join(all_tokens)).to_image().show()\n",
    "\n",
    "# Drop unused column\n",
    "df.drop(\"sentiment_scores\", axis=1, inplace=True)\n",
    "df.to_csv(\"kosis_preprocessed.csv\", index=False)\n",
    "print(\"✅ Preprocessed data saved to kosis_preprocessed.csv\")\n",
    "\n",
    "# Feature engineering\n",
    "vectorizer = CountVectorizer(max_features=1000)\n",
    "token_features = vectorizer.fit_transform(df['unique_tokens'].apply(lambda x: ' '.join(x)))\n",
    "\n",
    "X = pd.concat([\n",
    "    pd.DataFrame(token_features.toarray(), columns=vectorizer.get_feature_names_out()),\n",
    "    df[['token_count', 'compound_score', 'positive_score', 'negative_score', 'neutral_score']]\n",
    "], axis=1)\n",
    "\n",
    "y = df['labeled_status']\n",
    "\n",
    "# Train/test split\n",
    "X_train, X_test, y_train, y_test = train_test_split(X, y, test_size=0.2, random_state=42)\n",
    "\n",
    "# Apply SMOTE\n",
    "X_res, y_res = SMOTE(random_state=42).fit_resample(X_train, y_train)\n",
    "\n",
    "# Train models\n",
    "dt_model = DecisionTreeClassifier(random_state=42).fit(X_res, y_res)\n",
    "rf_model = RandomForestClassifier(n_estimators=100, random_state=42).fit(X_res, y_res)\n",
    "\n",
    "import joblib\n",
    "\n",
    "joblib.dump(dt_model, \"model_dt.pkl\")\n",
    "joblib.dump(rf_model, \"model_rf.pkl\")\n",
    "joblib.dump(vectorizer, \"vectorizer.pkl\")\n",
    "\n",
    "# Evaluate\n",
    "for model, name in zip([dt_model, rf_model], [\"Decision Tree\", \"Random Forest\"]):\n",
    "    preds = model.predict(X_test)\n",
    "    acc = accuracy_score(y_test, preds)\n",
    "    print(f\"\\n{name} Accuracy: {acc:.2f}\")\n",
    "    print(classification_report(y_test, preds))\n",
    "\n",
    "# Feature importance\n",
    "for model, name in zip([dt_model, rf_model], [\"Decision Tree\", \"Random Forest\"]):\n",
    "    feat_imp = pd.DataFrame({\n",
    "        'feature': X.columns,\n",
    "        'importance': model.feature_importances_\n",
    "    }).sort_values(\"importance\", ascending=False)\n",
    "    print(f\"\\n{name} - Top 10 Important Features:\\n\", feat_imp.head(10))\n",
    "\n",
    "\n",
    "# === Prediction on new sentence (without POS tagging) ===\n",
    "\n",
    "def preprocess_single_sentence(sentence):\n",
    "    tokens = remove_stopwords_and_get_unique(sentence)\n",
    "    sentiment_scores = analyze_sentiment(sentence)\n",
    "\n",
    "    token_feats = vectorizer.transform([' '.join(tokens)])\n",
    "\n",
    "    features = pd.concat([\n",
    "        pd.DataFrame(token_feats.toarray(), columns=vectorizer.get_feature_names_out()),\n",
    "        pd.DataFrame([[len(tokens), sentiment_scores['compound'], sentiment_scores['pos'],\n",
    "                       sentiment_scores['neg'], sentiment_scores['neu']]],\n",
    "                     columns=['token_count', 'compound_score', 'positive_score', 'negative_score', 'neutral_score'])\n",
    "    ], axis=1)\n",
    "\n",
    "    return features\n",
    "\n",
    "\n",
    "def categorize_sentence(sentence, model):\n",
    "    return model.predict(preprocess_single_sentence(sentence))[0]\n",
    "\n",
    "\n",
    "# Example usage\n",
    "test_sentence = \"This is the most worst and bad part of the video.\"\n",
    "print(\"\\nTest sentence:\", test_sentence)\n",
    "print(\"Decision Tree Prediction:\", categorize_sentence(test_sentence, dt_model))\n",
    "print(\"Random Forest Prediction:\", categorize_sentence(test_sentence, rf_model))\n"
   ]
  },
  {
   "cell_type": "code",
   "execution_count": 38,
   "metadata": {},
   "outputs": [
    {
     "data": {
      "text/plain": [
       "Index(['Unnamed: 0', 'id', 'author', 'published_at', 'updated_at',\n",
       "       'like_count', 'sentiment_score', 'text', 'labeled_status',\n",
       "       'unique_tokens', 'token_count', 'compound_score', 'positive_score',\n",
       "       'negative_score', 'neutral_score'],\n",
       "      dtype='object')"
      ]
     },
     "execution_count": 38,
     "metadata": {},
     "output_type": "execute_result"
    }
   ],
   "source": [
    "df.columns\n"
   ]
  },
  {
   "cell_type": "code",
   "execution_count": 39,
   "metadata": {},
   "outputs": [
    {
     "data": {
      "text/plain": [
       "Index(['Unnamed: 0', 'id', 'author', 'published_at', 'updated_at',\n",
       "       'like_count', 'sentiment_score', 'text', 'labeled_status',\n",
       "       'unique_tokens', 'token_count', 'compound_score', 'positive_score',\n",
       "       'negative_score', 'neutral_score'],\n",
       "      dtype='object')"
      ]
     },
     "execution_count": 39,
     "metadata": {},
     "output_type": "execute_result"
    }
   ],
   "source": [
    "df.columns\n"
   ]
  },
  {
   "cell_type": "code",
   "execution_count": 40,
   "metadata": {},
   "outputs": [
    {
     "data": {
      "text/plain": [
       "Index(['Unnamed: 0', 'id', 'author', 'published_at', 'updated_at',\n",
       "       'like_count', 'sentiment_score', 'text', 'labeled_status',\n",
       "       'unique_tokens', 'token_count', 'compound_score', 'positive_score',\n",
       "       'negative_score', 'neutral_score'],\n",
       "      dtype='object')"
      ]
     },
     "execution_count": 40,
     "metadata": {},
     "output_type": "execute_result"
    }
   ],
   "source": [
    "df.columns\n"
   ]
  },
  {
   "cell_type": "code",
   "execution_count": 41,
   "metadata": {},
   "outputs": [
    {
     "data": {
      "text/plain": [
       "Index(['Unnamed: 0', 'id', 'author', 'published_at', 'updated_at',\n",
       "       'like_count', 'sentiment_score', 'text', 'labeled_status',\n",
       "       'unique_tokens', 'token_count', 'compound_score', 'positive_score',\n",
       "       'negative_score', 'neutral_score'],\n",
       "      dtype='object')"
      ]
     },
     "execution_count": 41,
     "metadata": {},
     "output_type": "execute_result"
    }
   ],
   "source": [
    "df.columns\n"
   ]
  },
  {
   "cell_type": "code",
   "execution_count": 42,
   "metadata": {},
   "outputs": [
    {
     "data": {
      "text/plain": [
       "Index(['Unnamed: 0', 'id', 'author', 'published_at', 'updated_at',\n",
       "       'like_count', 'sentiment_score', 'text', 'labeled_status',\n",
       "       'unique_tokens', 'token_count', 'compound_score', 'positive_score',\n",
       "       'negative_score', 'neutral_score'],\n",
       "      dtype='object')"
      ]
     },
     "execution_count": 42,
     "metadata": {},
     "output_type": "execute_result"
    }
   ],
   "source": [
    "df.columns\n"
   ]
  },
  {
   "cell_type": "code",
   "execution_count": 43,
   "metadata": {},
   "outputs": [
    {
     "data": {
      "text/plain": [
       "Index(['Unnamed: 0', 'id', 'author', 'published_at', 'updated_at',\n",
       "       'like_count', 'sentiment_score', 'text', 'labeled_status',\n",
       "       'unique_tokens', 'token_count', 'compound_score', 'positive_score',\n",
       "       'negative_score', 'neutral_score'],\n",
       "      dtype='object')"
      ]
     },
     "execution_count": 43,
     "metadata": {},
     "output_type": "execute_result"
    }
   ],
   "source": [
    "df.columns\n"
   ]
  },
  {
   "cell_type": "code",
   "execution_count": 44,
   "metadata": {},
   "outputs": [
    {
     "data": {
      "text/plain": [
       "Index(['Unnamed: 0', 'id', 'author', 'published_at', 'updated_at',\n",
       "       'like_count', 'sentiment_score', 'text', 'labeled_status',\n",
       "       'unique_tokens', 'token_count', 'compound_score', 'positive_score',\n",
       "       'negative_score', 'neutral_score'],\n",
       "      dtype='object')"
      ]
     },
     "execution_count": 44,
     "metadata": {},
     "output_type": "execute_result"
    }
   ],
   "source": [
    "df.columns\n"
   ]
  },
  {
   "cell_type": "code",
   "execution_count": 45,
   "metadata": {},
   "outputs": [
    {
     "data": {
      "text/plain": [
       "Index(['Unnamed: 0', 'id', 'author', 'published_at', 'updated_at',\n",
       "       'like_count', 'sentiment_score', 'text', 'labeled_status',\n",
       "       'unique_tokens', 'token_count', 'compound_score', 'positive_score',\n",
       "       'negative_score', 'neutral_score'],\n",
       "      dtype='object')"
      ]
     },
     "execution_count": 45,
     "metadata": {},
     "output_type": "execute_result"
    }
   ],
   "source": [
    "df.columns\n"
   ]
  }
 ],
 "metadata": {
  "kernelspec": {
   "display_name": "Python 3",
   "language": "python",
   "name": "python3"
  },
  "language_info": {
   "codemirror_mode": {
    "name": "ipython",
    "version": 3
   },
   "file_extension": ".py",
   "mimetype": "text/x-python",
   "name": "python",
   "nbconvert_exporter": "python",
   "pygments_lexer": "ipython3",
   "version": "3.11.4"
  }
 },
 "nbformat": 4,
 "nbformat_minor": 2
}
